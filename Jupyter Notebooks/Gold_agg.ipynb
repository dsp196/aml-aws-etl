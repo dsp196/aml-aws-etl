{
 "cells": [
  {
   "cell_type": "code",
   "execution_count": 2,
   "id": "a20b369a-c6fb-4fdd-b4c5-f347b41a2957",
   "metadata": {
    "execution": {
     "iopub.execute_input": "2025-07-01T20:37:15.366467Z",
     "iopub.status.busy": "2025-07-01T20:37:15.366244Z",
     "iopub.status.idle": "2025-07-01T20:40:07.226898Z",
     "shell.execute_reply": "2025-07-01T20:40:07.226238Z",
     "shell.execute_reply.started": "2025-07-01T20:37:15.366443Z"
    },
    "tags": []
   },
   "outputs": [
    {
     "data": {
      "application/vnd.jupyter.widget-view+json": {
       "model_id": "4e8561f47d4b40ab9d02846121c68e0c",
       "version_major": 2,
       "version_minor": 0
      },
      "text/plain": [
       "VBox()"
      ]
     },
     "metadata": {},
     "output_type": "display_data"
    },
    {
     "data": {
      "application/vnd.jupyter.widget-view+json": {
       "model_id": "",
       "version_major": 2,
       "version_minor": 0
      },
      "text/plain": [
       "FloatProgress(value=0.0, bar_style='info', description='Progress:', layout=Layout(height='25px', width='50%'),…"
      ]
     },
     "metadata": {},
     "output_type": "display_data"
    },
    {
     "name": "stdout",
     "output_type": "stream",
     "text": [
      "Rows in Silver: 431109182"
     ]
    }
   ],
   "source": [
    "from pyspark.sql import functions as F\n",
    "\n",
    "SILVER_PATH = \"s3://ibmrawaml/Spark_curated_day/\"\n",
    "GOLD_ROOT   = \"s3://ibmrawaml/gold/\"\n",
    "\n",
    "spark.conf.set(\"spark.sql.sources.partitionOverwriteMode\", \"dynamic\")\n",
    "\n",
    "silver = spark.read.parquet(SILVER_PATH)\n",
    "\n",
    "# Cache only if it fits in memory and you want speedup\n",
    "silver.cache()\n",
    "print(\"Rows in Silver:\", silver.count())"
   ]
  },
  {
   "cell_type": "code",
   "execution_count": 6,
   "id": "84fe03e7-e6bf-4170-9d4d-9eedfc07b258",
   "metadata": {
    "execution": {
     "iopub.execute_input": "2025-07-01T20:50:21.788546Z",
     "iopub.status.busy": "2025-07-01T20:50:21.788319Z",
     "iopub.status.idle": "2025-07-01T20:50:21.832513Z",
     "shell.execute_reply": "2025-07-01T20:50:21.831945Z",
     "shell.execute_reply.started": "2025-07-01T20:50:21.788521Z"
    },
    "tags": []
   },
   "outputs": [
    {
     "data": {
      "application/vnd.jupyter.widget-view+json": {
       "model_id": "3c5aeaa34c214fa6adbcb4f7253362a8",
       "version_major": 2,
       "version_minor": 0
      },
      "text/plain": [
       "VBox()"
      ]
     },
     "metadata": {},
     "output_type": "display_data"
    },
    {
     "data": {
      "application/vnd.jupyter.widget-view+json": {
       "model_id": "",
       "version_major": 2,
       "version_minor": 0
      },
      "text/plain": [
       "FloatProgress(value=0.0, bar_style='info', description='Progress:', layout=Layout(height='25px', width='50%'),…"
      ]
     },
     "metadata": {},
     "output_type": "display_data"
    }
   ],
   "source": [
    "def write_gold(df, subfolder, coalesce_parts=8):\n",
    "    \"\"\"\n",
    "    Write a DataFrame to Gold S3 location using Snappy Parquet,\n",
    "    partitioned by yr / mo / day.\n",
    "    \"\"\"\n",
    "    (df.coalesce(coalesce_parts)\n",
    "       .write.mode(\"overwrite\")\n",
    "       .option(\"compression\", \"snappy\")\n",
    "       .partitionBy(\"yr\", \"mo\", \"day\")\n",
    "       .parquet(f\"{GOLD_ROOT}{subfolder}\"))\n"
   ]
  },
  {
   "cell_type": "code",
   "execution_count": 4,
   "id": "4c488094-fdef-4da3-a566-c96a8a0dc23e",
   "metadata": {
    "execution": {
     "iopub.execute_input": "2025-07-01T20:46:31.315776Z",
     "iopub.status.busy": "2025-07-01T20:46:31.315525Z",
     "iopub.status.idle": "2025-07-01T20:46:38.603505Z",
     "shell.execute_reply": "2025-07-01T20:46:38.602882Z",
     "shell.execute_reply.started": "2025-07-01T20:46:31.315722Z"
    }
   },
   "outputs": [
    {
     "data": {
      "application/vnd.jupyter.widget-view+json": {
       "model_id": "e602adb71b9c4e1a82a8aa83cade3d6e",
       "version_major": 2,
       "version_minor": 0
      },
      "text/plain": [
       "VBox()"
      ]
     },
     "metadata": {},
     "output_type": "display_data"
    },
    {
     "data": {
      "application/vnd.jupyter.widget-view+json": {
       "model_id": "",
       "version_major": 2,
       "version_minor": 0
      },
      "text/plain": [
       "FloatProgress(value=0.0, bar_style='info', description='Progress:', layout=Layout(height='25px', width='50%'),…"
      ]
     },
     "metadata": {},
     "output_type": "display_data"
    },
    {
     "name": "stdout",
     "output_type": "stream",
     "text": [
      "+----+---+---+-------+--------------------+-----------------+---------+--------+----------+---------+\n",
      "|  yr| mo|day| txn_ct|           total_amt|          avg_amt|big_tx_ct|label_ct|pct_big_tx|pct_label|\n",
      "+----+---+---+-------+--------------------+-----------------+---------+--------+----------+---------+\n",
      "|2022| 10| 21|5189803|2.861449830057276E13|5513600.092445274|  1332898|    5467|     25.68|     0.11|\n",
      "|2022|  9|  6|8788142|4.821919515143186E13|5486847.521516136|  2167159|   10722|     24.66|     0.12|\n",
      "|2022|  9|  8|8789382|4.621526353219144E13|5258078.842425034|  2167344|   11035|     24.66|     0.13|\n",
      "|2022| 10| 14|5977894|5.204302625211076...| 8705913.19486608|  1763749|    5442|      29.5|     0.09|\n",
      "|2022|  9| 23|5193724|3.615389379937657E13| 6961073.36457936|  1336339|    5285|     25.73|      0.1|\n",
      "+----+---+---+-------+--------------------+-----------------+---------+--------+----------+---------+\n",
      "only showing top 5 rows"
     ]
    }
   ],
   "source": [
    "daily = (silver\n",
    "    .groupBy(\"yr\", \"mo\", \"day\")\n",
    "    .agg(\n",
    "        F.count(\"*\").alias(\"txn_ct\"),\n",
    "        F.sum(\"amount_received\").alias(\"total_amt\"),\n",
    "        F.avg(\"amount_received\").alias(\"avg_amt\"),\n",
    "        F.sum(F.expr(\"amount_received >= 10000\").cast(\"int\")).alias(\"big_tx_ct\"),\n",
    "        F.sum(\"is_laundering\").alias(\"label_ct\")\n",
    "    )\n",
    "    .withColumn(\"pct_big_tx\", F.round(100.0 * F.col(\"big_tx_ct\") / F.col(\"txn_ct\"), 2))\n",
    "    .withColumn(\"pct_label\",  F.round(100.0 * F.col(\"label_ct\") / F.col(\"txn_ct\"), 2))\n",
    ")\n",
    "\n",
    "daily.show(5)"
   ]
  },
  {
   "cell_type": "code",
   "execution_count": 7,
   "id": "c75c4f5a-93da-4654-aa36-7bb05862131d",
   "metadata": {
    "execution": {
     "iopub.execute_input": "2025-07-01T20:50:25.713164Z",
     "iopub.status.busy": "2025-07-01T20:50:25.712925Z",
     "iopub.status.idle": "2025-07-01T20:50:49.053661Z",
     "shell.execute_reply": "2025-07-01T20:50:49.052858Z",
     "shell.execute_reply.started": "2025-07-01T20:50:25.713139Z"
    },
    "tags": []
   },
   "outputs": [
    {
     "data": {
      "application/vnd.jupyter.widget-view+json": {
       "model_id": "9948b0c27d2343c1b16590d28152488a",
       "version_major": 2,
       "version_minor": 0
      },
      "text/plain": [
       "VBox()"
      ]
     },
     "metadata": {},
     "output_type": "display_data"
    },
    {
     "data": {
      "application/vnd.jupyter.widget-view+json": {
       "model_id": "",
       "version_major": 2,
       "version_minor": 0
      },
      "text/plain": [
       "FloatProgress(value=0.0, bar_style='info', description='Progress:', layout=Layout(height='25px', width='50%'),…"
      ]
     },
     "metadata": {},
     "output_type": "display_data"
    }
   ],
   "source": [
    "write_gold(daily, \"daily/\")\n"
   ]
  },
  {
   "cell_type": "code",
   "execution_count": 8,
   "id": "be0897e8-afcd-4734-9253-8a00c701a97b",
   "metadata": {
    "execution": {
     "iopub.execute_input": "2025-07-01T20:54:42.940922Z",
     "iopub.status.busy": "2025-07-01T20:54:42.940695Z",
     "iopub.status.idle": "2025-07-01T20:56:24.535367Z",
     "shell.execute_reply": "2025-07-01T20:56:24.534763Z",
     "shell.execute_reply.started": "2025-07-01T20:54:42.940896Z"
    }
   },
   "outputs": [
    {
     "data": {
      "application/vnd.jupyter.widget-view+json": {
       "model_id": "0be61230cd234587a28052c890f48675",
       "version_major": 2,
       "version_minor": 0
      },
      "text/plain": [
       "VBox()"
      ]
     },
     "metadata": {},
     "output_type": "display_data"
    },
    {
     "data": {
      "application/vnd.jupyter.widget-view+json": {
       "model_id": "",
       "version_major": 2,
       "version_minor": 0
      },
      "text/plain": [
       "FloatProgress(value=0.0, bar_style='info', description='Progress:', layout=Layout(height='25px', width='50%'),…"
      ]
     },
     "metadata": {},
     "output_type": "display_data"
    }
   ],
   "source": [
    "fanout = (silver\n",
    "    .groupBy(\"yr\", \"mo\", \"day\", \"from_account\")\n",
    "    .agg(\n",
    "        F.countDistinct(\"to_account\").alias(\"fanout_deg\"),\n",
    "        F.sum(\"amount_received\").alias(\"sum_amt\"),\n",
    "        F.max(\"amount_received\").alias(\"max_amt\")\n",
    "    ))\n",
    "\n",
    "write_gold(fanout, \"fanout/\")\n"
   ]
  },
  {
   "cell_type": "code",
   "execution_count": 9,
   "id": "2f028c6e-b396-4f67-8531-a817facaf573",
   "metadata": {
    "execution": {
     "iopub.execute_input": "2025-07-01T20:57:09.761398Z",
     "iopub.status.busy": "2025-07-01T20:57:09.761171Z",
     "iopub.status.idle": "2025-07-01T20:57:35.111677Z",
     "shell.execute_reply": "2025-07-01T20:57:35.110941Z",
     "shell.execute_reply.started": "2025-07-01T20:57:09.761373Z"
    }
   },
   "outputs": [
    {
     "data": {
      "application/vnd.jupyter.widget-view+json": {
       "model_id": "abca8a6a03b14026a93ae70f70e54466",
       "version_major": 2,
       "version_minor": 0
      },
      "text/plain": [
       "VBox()"
      ]
     },
     "metadata": {},
     "output_type": "display_data"
    },
    {
     "data": {
      "application/vnd.jupyter.widget-view+json": {
       "model_id": "",
       "version_major": 2,
       "version_minor": 0
      },
      "text/plain": [
       "FloatProgress(value=0.0, bar_style='info', description='Progress:', layout=Layout(height='25px', width='50%'),…"
      ]
     },
     "metadata": {},
     "output_type": "display_data"
    }
   ],
   "source": [
    "fx = (silver\n",
    "    .filter(F.col(\"receiving_currency\") != F.col(\"payment_currency\"))\n",
    "    .withColumn(\"fx_pair\", F.concat_ws(\"→\", \"receiving_currency\", \"payment_currency\"))\n",
    "    .groupBy(\"yr\", \"mo\", \"day\", \"fx_pair\")\n",
    "    .agg(\n",
    "        F.count(\"*\").alias(\"tx_ct\"),\n",
    "        F.sum(\"amount_received\").alias(\"amt_recv\"),\n",
    "        F.sum(\"amount_paid\").alias(\"amt_paid\"),\n",
    "        F.sum(F.col(\"amount_received\") - F.col(\"amount_paid\")).alias(\"spread_abs\")\n",
    "    )\n",
    "    .withColumn(\"spread_pct\",\n",
    "        F.round(100.0 * F.col(\"spread_abs\") / F.col(\"amt_paid\"), 4))\n",
    ")\n",
    "\n",
    "write_gold(fx, \"fx/\")\n"
   ]
  },
  {
   "cell_type": "code",
   "execution_count": 10,
   "id": "f3313387-b4b4-4d54-889b-91f6007337dc",
   "metadata": {
    "execution": {
     "iopub.execute_input": "2025-07-01T20:57:47.577103Z",
     "iopub.status.busy": "2025-07-01T20:57:47.576830Z",
     "iopub.status.idle": "2025-07-01T20:58:12.919482Z",
     "shell.execute_reply": "2025-07-01T20:58:12.918776Z",
     "shell.execute_reply.started": "2025-07-01T20:57:47.577072Z"
    }
   },
   "outputs": [
    {
     "data": {
      "application/vnd.jupyter.widget-view+json": {
       "model_id": "2e27a54207ab4c1e8e7347518d8c50f5",
       "version_major": 2,
       "version_minor": 0
      },
      "text/plain": [
       "VBox()"
      ]
     },
     "metadata": {},
     "output_type": "display_data"
    },
    {
     "data": {
      "application/vnd.jupyter.widget-view+json": {
       "model_id": "",
       "version_major": 2,
       "version_minor": 0
      },
      "text/plain": [
       "FloatProgress(value=0.0, bar_style='info', description='Progress:', layout=Layout(height='25px', width='50%'),…"
      ]
     },
     "metadata": {},
     "output_type": "display_data"
    }
   ],
   "source": [
    "hourly = (silver\n",
    "    .withColumn(\"hr\", F.hour(\"timestamp\"))\n",
    "    .groupBy(\"yr\", \"mo\", \"day\", \"hr\")\n",
    "    .agg(\n",
    "        F.count(\"*\").alias(\"tx_ct\"),\n",
    "        F.sum(\"amount_received\").alias(\"amt\")\n",
    "    ))\n",
    "\n",
    "write_gold(hourly, \"hourly/\")\n"
   ]
  },
  {
   "cell_type": "code",
   "execution_count": 11,
   "id": "b9808e4a-2d9f-4d71-ac78-8c6943a74afc",
   "metadata": {
    "execution": {
     "iopub.execute_input": "2025-07-01T20:58:12.920730Z",
     "iopub.status.busy": "2025-07-01T20:58:12.920561Z",
     "iopub.status.idle": "2025-07-01T20:59:22.385862Z",
     "shell.execute_reply": "2025-07-01T20:59:22.385231Z",
     "shell.execute_reply.started": "2025-07-01T20:58:12.920707Z"
    }
   },
   "outputs": [
    {
     "data": {
      "application/vnd.jupyter.widget-view+json": {
       "model_id": "54f7aeb3963041a09debe0b3bbe3b886",
       "version_major": 2,
       "version_minor": 0
      },
      "text/plain": [
       "VBox()"
      ]
     },
     "metadata": {},
     "output_type": "display_data"
    },
    {
     "data": {
      "application/vnd.jupyter.widget-view+json": {
       "model_id": "",
       "version_major": 2,
       "version_minor": 0
      },
      "text/plain": [
       "FloatProgress(value=0.0, bar_style='info', description='Progress:', layout=Layout(height='25px', width='50%'),…"
      ]
     },
     "metadata": {},
     "output_type": "display_data"
    }
   ],
   "source": [
    "corridors = (silver\n",
    "    .withColumn(\"corridor\", F.concat_ws(\"→\", \"from_bank\", \"to_bank\"))\n",
    "    .groupBy(\"yr\", \"mo\", \"day\", \"corridor\")\n",
    "    .agg(\n",
    "        F.count(\"*\").alias(\"tx_ct\"),\n",
    "        F.sum(\"amount_received\").alias(\"amt\")\n",
    "    ))\n",
    "\n",
    "write_gold(corridors, \"corridors/\")\n"
   ]
  },
  {
   "cell_type": "code",
   "execution_count": null,
   "id": "be0e049e-6834-4172-8fef-7526b0d2be20",
   "metadata": {},
   "outputs": [],
   "source": []
  }
 ],
 "metadata": {
  "kernelspec": {
   "display_name": "PySpark",
   "language": "",
   "name": "pysparkkernel"
  },
  "language_info": {
   "codemirror_mode": {
    "name": "python",
    "version": 3
   },
   "file_extension": ".py",
   "mimetype": "text/x-python",
   "name": "pyspark",
   "pygments_lexer": "python3"
  }
 },
 "nbformat": 4,
 "nbformat_minor": 5
}
