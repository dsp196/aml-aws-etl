{
 "cells": [
  {
   "cell_type": "code",
   "execution_count": 8,
   "id": "ccb8ae0c-fe3b-4cf4-9687-22f7aa297ddb",
   "metadata": {
    "execution": {
     "iopub.execute_input": "2025-07-01T20:13:39.195528Z",
     "iopub.status.busy": "2025-07-01T20:13:39.194460Z",
     "iopub.status.idle": "2025-07-01T20:13:39.265215Z",
     "shell.execute_reply": "2025-07-01T20:13:39.264400Z",
     "shell.execute_reply.started": "2025-07-01T20:13:39.195484Z"
    },
    "tags": []
   },
   "outputs": [
    {
     "data": {
      "application/vnd.jupyter.widget-view+json": {
       "model_id": "d764faa2b4814e4c8f1a6bd103cf11e4",
       "version_major": 2,
       "version_minor": 0
      },
      "text/plain": [
       "VBox()"
      ]
     },
     "metadata": {},
     "output_type": "display_data"
    },
    {
     "data": {
      "application/vnd.jupyter.widget-view+json": {
       "model_id": "",
       "version_major": 2,
       "version_minor": 0
      },
      "text/plain": [
       "FloatProgress(value=0.0, bar_style='info', description='Progress:', layout=Layout(height='25px', width='50%'),…"
      ]
     },
     "metadata": {},
     "output_type": "display_data"
    }
   ],
   "source": [
    "spark.conf.set(\"mapreduce.input.fileinputformat.input.dir.recursive\", \"true\")\n",
    "spark.conf.set(\"spark.sql.sources.partitionOverwriteMode\", \"dynamic\")\n",
    "SILVER_PATH = \"s3://ibmrawaml/Spark_curated_day/\"\n",
    "\n"
   ]
  },
  {
   "cell_type": "code",
   "execution_count": 5,
   "id": "2dfd0bf6-1c31-43d7-b393-833ff024496c",
   "metadata": {
    "execution": {
     "iopub.execute_input": "2025-07-01T20:13:27.819240Z",
     "iopub.status.busy": "2025-07-01T20:13:27.819009Z",
     "iopub.status.idle": "2025-07-01T20:13:28.081161Z",
     "shell.execute_reply": "2025-07-01T20:13:28.080282Z",
     "shell.execute_reply.started": "2025-07-01T20:13:27.819214Z"
    },
    "tags": []
   },
   "outputs": [
    {
     "data": {
      "application/vnd.jupyter.widget-view+json": {
       "model_id": "c5650db15f3c409dbfcdd908cd75d0d9",
       "version_major": 2,
       "version_minor": 0
      },
      "text/plain": [
       "VBox()"
      ]
     },
     "metadata": {},
     "output_type": "display_data"
    },
    {
     "data": {
      "application/vnd.jupyter.widget-view+json": {
       "model_id": "",
       "version_major": 2,
       "version_minor": 0
      },
      "text/plain": [
       "FloatProgress(value=0.0, bar_style='info', description='Progress:', layout=Layout(height='25px', width='50%'),…"
      ]
     },
     "metadata": {},
     "output_type": "display_data"
    },
    {
     "name": "stdout",
     "output_type": "stream",
     "text": [
      "+-----------+\n",
      "|  namespace|\n",
      "+-----------+\n",
      "|aml_curated|\n",
      "|    aml_dev|\n",
      "|    aml_raw|\n",
      "|    default|\n",
      "+-----------+"
     ]
    }
   ],
   "source": [
    "from pyspark.sql import SparkSession, functions as F, Window\n",
    "\n",
    "spark = SparkSession.builder.appName(\"aml_full_transform\").getOrCreate()\n",
    "\n",
    "# Confirm Glue Catalog is the metastore\n",
    "spark.sql(\"SHOW DATABASES\").show(5)\n"
   ]
  },
  {
   "cell_type": "markdown",
   "id": "bb2c55a9-eeba-44c6-bc30-43f319ef99e4",
   "metadata": {
    "execution": {
     "iopub.execute_input": "2025-06-14T21:29:02.734385Z",
     "iopub.status.busy": "2025-06-14T21:29:02.734164Z",
     "iopub.status.idle": "2025-06-14T21:29:02.786412Z",
     "shell.execute_reply": "2025-06-14T21:29:02.785763Z",
     "shell.execute_reply.started": "2025-06-14T21:29:02.734358Z"
    }
   },
   "source": [
    "## Reading every partition"
   ]
  },
  {
   "cell_type": "code",
   "execution_count": 9,
   "id": "ea83777b-9a37-4d7e-a6bb-d6824a206ed3",
   "metadata": {
    "execution": {
     "iopub.execute_input": "2025-07-01T20:13:48.325320Z",
     "iopub.status.busy": "2025-07-01T20:13:48.325090Z",
     "iopub.status.idle": "2025-07-01T20:13:48.581411Z",
     "shell.execute_reply": "2025-07-01T20:13:48.580586Z",
     "shell.execute_reply.started": "2025-07-01T20:13:48.325295Z"
    },
    "tags": []
   },
   "outputs": [
    {
     "data": {
      "application/vnd.jupyter.widget-view+json": {
       "model_id": "6cf4e734926943178c4361bfb0907c71",
       "version_major": 2,
       "version_minor": 0
      },
      "text/plain": [
       "VBox()"
      ]
     },
     "metadata": {},
     "output_type": "display_data"
    },
    {
     "data": {
      "application/vnd.jupyter.widget-view+json": {
       "model_id": "",
       "version_major": 2,
       "version_minor": 0
      },
      "text/plain": [
       "FloatProgress(value=0.0, bar_style='info', description='Progress:', layout=Layout(height='25px', width='50%'),…"
      ]
     },
     "metadata": {},
     "output_type": "display_data"
    }
   ],
   "source": [
    "df_raw = spark.table(\"aml_raw.catchall\")\n"
   ]
  },
  {
   "cell_type": "code",
   "execution_count": 10,
   "id": "2a856fc5-ec51-4867-9b0c-39a40a12bb66",
   "metadata": {
    "execution": {
     "iopub.execute_input": "2025-07-01T20:13:48.582788Z",
     "iopub.status.busy": "2025-07-01T20:13:48.582607Z",
     "iopub.status.idle": "2025-07-01T20:13:48.642464Z",
     "shell.execute_reply": "2025-07-01T20:13:48.641811Z",
     "shell.execute_reply.started": "2025-07-01T20:13:48.582764Z"
    },
    "tags": []
   },
   "outputs": [
    {
     "data": {
      "application/vnd.jupyter.widget-view+json": {
       "model_id": "482e859fb42b472cb6e08bc669a4b5cf",
       "version_major": 2,
       "version_minor": 0
      },
      "text/plain": [
       "VBox()"
      ]
     },
     "metadata": {},
     "output_type": "display_data"
    },
    {
     "data": {
      "application/vnd.jupyter.widget-view+json": {
       "model_id": "",
       "version_major": 2,
       "version_minor": 0
      },
      "text/plain": [
       "FloatProgress(value=0.0, bar_style='info', description='Progress:', layout=Layout(height='25px', width='50%'),…"
      ]
     },
     "metadata": {},
     "output_type": "display_data"
    },
    {
     "name": "stdout",
     "output_type": "stream",
     "text": [
      "root\n",
      " |-- col1: string (nullable = true)\n",
      " |-- col2: string (nullable = true)\n",
      " |-- col3: string (nullable = true)\n",
      " |-- col4: string (nullable = true)\n",
      " |-- col5: string (nullable = true)\n",
      " |-- col6: double (nullable = true)\n",
      " |-- col7: string (nullable = true)\n",
      " |-- col8: double (nullable = true)\n",
      " |-- col9: string (nullable = true)\n",
      " |-- col10: string (nullable = true)\n",
      " |-- col11: integer (nullable = true)"
     ]
    }
   ],
   "source": [
    "df_raw.printSchema()"
   ]
  },
  {
   "cell_type": "code",
   "execution_count": 11,
   "id": "b3d6987b-7d64-4a93-9f61-f7aa014ecaae",
   "metadata": {
    "execution": {
     "iopub.execute_input": "2025-07-01T20:13:50.875427Z",
     "iopub.status.busy": "2025-07-01T20:13:50.875131Z",
     "iopub.status.idle": "2025-07-01T20:13:51.135955Z",
     "shell.execute_reply": "2025-07-01T20:13:51.135189Z",
     "shell.execute_reply.started": "2025-07-01T20:13:50.875385Z"
    },
    "tags": []
   },
   "outputs": [
    {
     "data": {
      "application/vnd.jupyter.widget-view+json": {
       "model_id": "8f66172c751b4bb7aae0e809ddc6480e",
       "version_major": 2,
       "version_minor": 0
      },
      "text/plain": [
       "VBox()"
      ]
     },
     "metadata": {},
     "output_type": "display_data"
    },
    {
     "data": {
      "application/vnd.jupyter.widget-view+json": {
       "model_id": "",
       "version_major": 2,
       "version_minor": 0
      },
      "text/plain": [
       "FloatProgress(value=0.0, bar_style='info', description='Progress:', layout=Layout(height='25px', width='50%'),…"
      ]
     },
     "metadata": {},
     "output_type": "display_data"
    }
   ],
   "source": [
    "df_parsed = (\n",
    "    df_raw\n",
    "      .withColumn(\n",
    "          \"parsed_ts\",\n",
    "          F.coalesce(                                # accept either format\n",
    "              F.to_timestamp(\"col1\", \"yyyy/MM/dd HH:mm\"),           # 2022/10/10 06:50\n",
    "              F.to_timestamp(\"col1\", \"yyyy/MM/dd HH:mm:ss\"),        # 2022/10/10 06:50:00\n",
    "              F.to_timestamp(\"col1\", \"yyyy-MM-dd HH:mm:ss\"))        # 2022-10-10 06:50:00\n",
    "      )\n",
    "      .filter(F.col(\"parsed_ts\").isNotNull())         # drop malformed rows\n",
    ")\n"
   ]
  },
  {
   "cell_type": "code",
   "execution_count": 12,
   "id": "52fc9f87-8d41-4438-b661-98a82dbee077",
   "metadata": {
    "execution": {
     "iopub.execute_input": "2025-07-01T20:13:53.507225Z",
     "iopub.status.busy": "2025-07-01T20:13:53.506964Z",
     "iopub.status.idle": "2025-07-01T20:13:53.781045Z",
     "shell.execute_reply": "2025-07-01T20:13:53.780223Z",
     "shell.execute_reply.started": "2025-07-01T20:13:53.507195Z"
    },
    "tags": []
   },
   "outputs": [
    {
     "data": {
      "application/vnd.jupyter.widget-view+json": {
       "model_id": "ffb2c0f481754b00b92abc196f80e31c",
       "version_major": 2,
       "version_minor": 0
      },
      "text/plain": [
       "VBox()"
      ]
     },
     "metadata": {},
     "output_type": "display_data"
    },
    {
     "data": {
      "application/vnd.jupyter.widget-view+json": {
       "model_id": "",
       "version_major": 2,
       "version_minor": 0
      },
      "text/plain": [
       "FloatProgress(value=0.0, bar_style='info', description='Progress:', layout=Layout(height='25px', width='50%'),…"
      ]
     },
     "metadata": {},
     "output_type": "display_data"
    }
   ],
   "source": [
    "df_part = (\n",
    "    df_parsed\n",
    "      .withColumn(\"yr\",  F.year(\"parsed_ts\").cast(\"int\"))\n",
    "      .withColumn(\"mo\",  F.month(\"parsed_ts\").cast(\"int\"))\n",
    "      .withColumn(\"day\", F.dayofmonth(\"parsed_ts\").cast(\"int\"))\n",
    "      .drop(\"col1\")                                   # raw string no longer needed\n",
    "      .withColumnRenamed(\"parsed_ts\", \"timestamp\")    # final name\n",
    ")"
   ]
  },
  {
   "cell_type": "code",
   "execution_count": 13,
   "id": "d7338eb3-0fdf-4b1a-ac37-fe990b77ce41",
   "metadata": {
    "execution": {
     "iopub.execute_input": "2025-07-01T20:13:55.491863Z",
     "iopub.status.busy": "2025-07-01T20:13:55.491619Z",
     "iopub.status.idle": "2025-07-01T20:13:55.749708Z",
     "shell.execute_reply": "2025-07-01T20:13:55.748930Z",
     "shell.execute_reply.started": "2025-07-01T20:13:55.491836Z"
    },
    "tags": []
   },
   "outputs": [
    {
     "data": {
      "application/vnd.jupyter.widget-view+json": {
       "model_id": "ba44ba5db00041d28c696abd2a3eaf4e",
       "version_major": 2,
       "version_minor": 0
      },
      "text/plain": [
       "VBox()"
      ]
     },
     "metadata": {},
     "output_type": "display_data"
    },
    {
     "data": {
      "application/vnd.jupyter.widget-view+json": {
       "model_id": "",
       "version_major": 2,
       "version_minor": 0
      },
      "text/plain": [
       "FloatProgress(value=0.0, bar_style='info', description='Progress:', layout=Layout(height='25px', width='50%'),…"
      ]
     },
     "metadata": {},
     "output_type": "display_data"
    }
   ],
   "source": [
    "df_final = (\n",
    "    df_part\n",
    "      .withColumnRenamed(\"col2\",  \"from_bank\")\n",
    "      .withColumnRenamed(\"col3\",  \"from_account\")\n",
    "      .withColumnRenamed(\"col4\",  \"to_bank\")\n",
    "      .withColumnRenamed(\"col5\",  \"to_account\")\n",
    "      .withColumnRenamed(\"col6\",  \"amount_received\")\n",
    "      .withColumnRenamed(\"col7\",  \"receiving_currency\")\n",
    "      .withColumnRenamed(\"col8\",  \"amount_paid\")\n",
    "      .withColumnRenamed(\"col9\",  \"payment_currency\")\n",
    "      .withColumnRenamed(\"col10\", \"payment_format\")\n",
    "      .withColumnRenamed(\"col11\", \"is_laundering\")\n",
    ")\n"
   ]
  },
  {
   "cell_type": "code",
   "execution_count": 14,
   "id": "da7d3031-fd9d-4979-a2c5-ade681ddf3ab",
   "metadata": {
    "execution": {
     "iopub.execute_input": "2025-07-01T20:13:57.502831Z",
     "iopub.status.busy": "2025-07-01T20:13:57.502568Z",
     "iopub.status.idle": "2025-07-01T20:14:06.823425Z",
     "shell.execute_reply": "2025-07-01T20:14:06.822631Z",
     "shell.execute_reply.started": "2025-07-01T20:13:57.502801Z"
    },
    "tags": []
   },
   "outputs": [
    {
     "data": {
      "application/vnd.jupyter.widget-view+json": {
       "model_id": "71f2406c13d84f94b735bc407050ddaf",
       "version_major": 2,
       "version_minor": 0
      },
      "text/plain": [
       "VBox()"
      ]
     },
     "metadata": {},
     "output_type": "display_data"
    },
    {
     "data": {
      "application/vnd.jupyter.widget-view+json": {
       "model_id": "",
       "version_major": 2,
       "version_minor": 0
      },
      "text/plain": [
       "FloatProgress(value=0.0, bar_style='info', description='Progress:', layout=Layout(height='25px', width='50%'),…"
      ]
     },
     "metadata": {},
     "output_type": "display_data"
    },
    {
     "name": "stdout",
     "output_type": "stream",
     "text": [
      "+---------+------------+-------+----------+---------------+------------------+-----------+----------------+--------------+-------------+-------------------+----+---+---+\n",
      "|from_bank|from_account|to_bank|to_account|amount_received|receiving_currency|amount_paid|payment_currency|payment_format|is_laundering|          timestamp|  yr| mo|day|\n",
      "+---------+------------+-------+----------+---------------+------------------+-----------+----------------+--------------+-------------+-------------------+----+---+---+\n",
      "|    00952|   8139F54E0|0111632| 8062C56E0|        5331.44|         US Dollar|    5331.44|       US Dollar|           ACH|            1|2022-08-09 05:14:00|2022|  8|  9|\n",
      "|  0111632|   8062C56E0| 008456| 81363F620|        5602.59|         US Dollar|    5602.59|       US Dollar|           ACH|            1|2022-08-13 13:09:00|2022|  8| 13|\n",
      "|  0118693|   823D5EB90| 013729| 801CF2E60|        1400.54|         US Dollar|    1400.54|       US Dollar|           ACH|            1|2022-08-15 07:40:00|2022|  8| 15|\n",
      "|   013729|   801CF2E60|0123621| 81A7090F0|        1467.94|         US Dollar|    1467.94|       US Dollar|           ACH|            1|2022-08-15 14:19:00|2022|  8| 15|\n",
      "|  0024750|   81363F410|0213834| 808757B00|       16898.29|         US Dollar|   16898.29|       US Dollar|           ACH|            1|2022-08-13 12:40:00|2022|  8| 13|\n",
      "+---------+------------+-------+----------+---------------+------------------+-----------+----------------+--------------+-------------+-------------------+----+---+---+\n",
      "only showing top 5 rows"
     ]
    }
   ],
   "source": [
    "df_final.show(5)"
   ]
  },
  {
   "cell_type": "code",
   "execution_count": 15,
   "id": "c6696080-7a5a-4f31-a464-532accba025f",
   "metadata": {
    "execution": {
     "iopub.execute_input": "2025-07-01T20:14:18.773202Z",
     "iopub.status.busy": "2025-07-01T20:14:18.772975Z",
     "iopub.status.idle": "2025-07-01T20:16:34.575396Z",
     "shell.execute_reply": "2025-07-01T20:16:34.574631Z",
     "shell.execute_reply.started": "2025-07-01T20:14:18.773177Z"
    },
    "tags": []
   },
   "outputs": [
    {
     "data": {
      "application/vnd.jupyter.widget-view+json": {
       "model_id": "2b5ee591a8cb43e6886d5d15f572976a",
       "version_major": 2,
       "version_minor": 0
      },
      "text/plain": [
       "VBox()"
      ]
     },
     "metadata": {},
     "output_type": "display_data"
    },
    {
     "data": {
      "application/vnd.jupyter.widget-view+json": {
       "model_id": "",
       "version_major": 2,
       "version_minor": 0
      },
      "text/plain": [
       "FloatProgress(value=0.0, bar_style='info', description='Progress:', layout=Layout(height='25px', width='50%'),…"
      ]
     },
     "metadata": {},
     "output_type": "display_data"
    },
    {
     "name": "stdout",
     "output_type": "stream",
     "text": [
      "431109182"
     ]
    }
   ],
   "source": [
    "df_final.count()"
   ]
  },
  {
   "cell_type": "code",
   "execution_count": null,
   "id": "bf94ddb5-28d0-48a3-9747-d0beb690e14c",
   "metadata": {
    "tags": []
   },
   "outputs": [],
   "source": []
  },
  {
   "cell_type": "code",
   "execution_count": 18,
   "id": "0b061de5-07a7-40e1-9fa2-2819ecf1b2bc",
   "metadata": {
    "execution": {
     "iopub.execute_input": "2025-07-01T20:17:04.456537Z",
     "iopub.status.busy": "2025-07-01T20:17:04.456176Z",
     "iopub.status.idle": "2025-07-01T20:21:50.819346Z",
     "shell.execute_reply": "2025-07-01T20:21:50.818517Z",
     "shell.execute_reply.started": "2025-07-01T20:17:04.456495Z"
    },
    "tags": []
   },
   "outputs": [
    {
     "data": {
      "application/vnd.jupyter.widget-view+json": {
       "model_id": "4476dc0b628042f4bb1406cce7c950ca",
       "version_major": 2,
       "version_minor": 0
      },
      "text/plain": [
       "VBox()"
      ]
     },
     "metadata": {},
     "output_type": "display_data"
    },
    {
     "data": {
      "application/vnd.jupyter.widget-view+json": {
       "model_id": "",
       "version_major": 2,
       "version_minor": 0
      },
      "text/plain": [
       "FloatProgress(value=0.0, bar_style='info', description='Progress:', layout=Layout(height='25px', width='50%'),…"
      ]
     },
     "metadata": {},
     "output_type": "display_data"
    }
   ],
   "source": [
    "(df_final\n",
    "   .repartition(\"yr\", \"mo\", \"day\")              # shuffle only on keys\n",
    "   .write\n",
    "   .mode(\"overwrite\")                           # replaces only touched y/m/d\n",
    "   .option(\"compression\", \"snappy\")\n",
    "   .partitionBy(\"yr\", \"mo\", \"day\")\n",
    "   .parquet(\"s3://ibmrawaml/Spark_curated_day/\"))   # <- NEW prefix"
   ]
  },
  {
   "cell_type": "code",
   "execution_count": 19,
   "id": "393f3ecf-0d58-4a96-aa35-ba75e0284600",
   "metadata": {
    "execution": {
     "iopub.execute_input": "2025-07-01T20:26:05.855022Z",
     "iopub.status.busy": "2025-07-01T20:26:05.854794Z",
     "iopub.status.idle": "2025-07-01T20:26:21.164744Z",
     "shell.execute_reply": "2025-07-01T20:26:21.164032Z",
     "shell.execute_reply.started": "2025-07-01T20:26:05.854994Z"
    }
   },
   "outputs": [
    {
     "data": {
      "application/vnd.jupyter.widget-view+json": {
       "model_id": "1a4e5daba59340a7a3a42ffa76968067",
       "version_major": 2,
       "version_minor": 0
      },
      "text/plain": [
       "VBox()"
      ]
     },
     "metadata": {},
     "output_type": "display_data"
    },
    {
     "data": {
      "application/vnd.jupyter.widget-view+json": {
       "model_id": "",
       "version_major": 2,
       "version_minor": 0
      },
      "text/plain": [
       "FloatProgress(value=0.0, bar_style='info', description='Progress:', layout=Layout(height='25px', width='50%'),…"
      ]
     },
     "metadata": {},
     "output_type": "display_data"
    },
    {
     "name": "stdout",
     "output_type": "stream",
     "text": [
      "431109182"
     ]
    }
   ],
   "source": [
    "spark.read.parquet(SILVER_PATH).count()\n"
   ]
  },
  {
   "cell_type": "code",
   "execution_count": null,
   "id": "115ee997-0893-4ffd-a5c9-34c6cbaa573f",
   "metadata": {},
   "outputs": [],
   "source": []
  }
 ],
 "metadata": {
  "kernelspec": {
   "display_name": "PySpark",
   "language": "",
   "name": "pysparkkernel"
  },
  "language_info": {
   "codemirror_mode": {
    "name": "python",
    "version": 3
   },
   "file_extension": ".py",
   "mimetype": "text/x-python",
   "name": "pyspark",
   "pygments_lexer": "python3"
  }
 },
 "nbformat": 4,
 "nbformat_minor": 5
}
